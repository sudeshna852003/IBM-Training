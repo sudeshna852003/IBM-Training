{
  "metadata": {
    "kernelspec": {
      "name": "python",
      "display_name": "Pyolite",
      "language": "python"
    },
    "language_info": {
      "codemirror_mode": {
        "name": "python",
        "version": 3
      },
      "file_extension": ".py",
      "mimetype": "text/x-python",
      "name": "python",
      "nbconvert_exporter": "python",
      "pygments_lexer": "ipython3",
      "version": "3.8"
    }
  },
  "nbformat_minor": 4,
  "nbformat": 4,
  "cells": [
    {
      "cell_type": "markdown",
      "source": "<center>\n    <img src=\"https://s3-api.us-geo.objectstorage.softlayer.net/cf-courses-data/CognitiveClass/Logos/organization_logo/organization_logo.png\" width=\"300\" alt=\"cognitiveclass.ai logo\"  />\n</center>\n",
      "metadata": {}
    },
    {
      "cell_type": "markdown",
      "source": "# My First Jupyter Notebook In Watson Studio",
      "metadata": {}
    },
    {
      "cell_type": "markdown",
      "source": " **Sudeshna Banerjee** ",
      "metadata": {}
    },
    {
      "cell_type": "markdown",
      "source": "Previously A Mainframe Developer, Currently a successful Homemaker ",
      "metadata": {}
    },
    {
      "cell_type": "markdown",
      "source": "*I am intrested in data science because it is the most upcoming and demanding field in AI .Also I am eager to learn this new technology*",
      "metadata": {}
    },
    {
      "cell_type": "markdown",
      "source": "### The below code is to print 1+1: ###",
      "metadata": {}
    },
    {
      "cell_type": "code",
      "source": "print (1+1)",
      "metadata": {
        "trusted": true
      },
      "execution_count": 3,
      "outputs": [
        {
          "name": "stdout",
          "text": "2\n",
          "output_type": "stream"
        }
      ]
    },
    {
      "cell_type": "markdown",
      "source": "1.First_item\n2.Second_item\n3.Third_item",
      "metadata": {}
    },
    {
      "cell_type": "markdown",
      "source": "* First_item\n* Second_item\n* Third_item",
      "metadata": {}
    },
    {
      "cell_type": "markdown",
      "source": "<https://markdownguide.org>",
      "metadata": {}
    },
    {
      "cell_type": "code",
      "source": "",
      "metadata": {},
      "execution_count": null,
      "outputs": []
    }
  ]
}